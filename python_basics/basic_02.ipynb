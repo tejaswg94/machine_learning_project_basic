{
 "cells": [
  {
   "cell_type": "code",
   "execution_count": 1,
   "metadata": {},
   "outputs": [
    {
     "name": "stdout",
     "output_type": "stream",
     "text": [
      "Hi Saif, this is to inform you that I'm not well today\n",
      "['Hi', 'Saif,', 'this', 'is', 'to', 'inform', 'you', 'that', \"I'm\", 'not', 'well', 'today']\n"
     ]
    }
   ],
   "source": [
    "# splitting sentence in the list of words\n",
    "a_sentence = 'Hi Saif, this is to inform you that I\\'m not well today'\n",
    "print(a_sentence)\n",
    "print(a_sentence.split())      #this wil split the sentence at the blank spaces"
   ]
  },
  {
   "cell_type": "code",
   "execution_count": 2,
   "metadata": {},
   "outputs": [
    {
     "name": "stdout",
     "output_type": "stream",
     "text": [
      "[\"Hi Saif, this is to inform you that I'm not well today\", 'I wont be able to make it to work today.']\n"
     ]
    }
   ],
   "source": [
    "#  splitting sentence at the specific character\n",
    "b_sentence = \"Hi Saif, this is to inform you that I'm not well today. I wont be able to make it to work today.\"\n",
    "print(b_sentence.split('. '))            #split sentence at .\n"
   ]
  },
  {
   "cell_type": "code",
   "execution_count": 3,
   "metadata": {},
   "outputs": [
    {
     "name": "stdout",
     "output_type": "stream",
     "text": [
      "['SAS', 'R', 'PYTHON', 'SPARK']\n"
     ]
    }
   ],
   "source": [
    "input_list=['SAS', 'R', 'PYTHON', 'SPSS']\n",
    "input_list.remove('SPSS')         #.remove() removes the element of the list given in the parathesis\n",
    "input_list.append('SPARK')      #.append() appendthe element of the list given in the parathesis at right end of the list\n",
    "\n",
    "print(input_list)"
   ]
  },
  {
   "cell_type": "code",
   "execution_count": 4,
   "metadata": {},
   "outputs": [
    {
     "name": "stdout",
     "output_type": "stream",
     "text": [
      "MynameisTejasSanjayWagh\n",
      "My name is Tejas Sanjay Wagh\n",
      "My-name-is-Tejas-Sanjay-Wagh\n"
     ]
    }
   ],
   "source": [
    "\n",
    "a_list = ['My','name','is','Tejas','Sanjay','Wagh'] \n",
    "aa_sentence = ''.join(a_list)\n",
    "print (aa_sentence)\n",
    "ab_sentence = ' '.join(a_list)\n",
    "print (ab_sentence)\n",
    "ac_sentence = '-'.join(a_list)\n",
    "print (ac_sentence)"
   ]
  },
  {
   "cell_type": "code",
   "execution_count": 5,
   "metadata": {},
   "outputs": [
    {
     "name": "stdout",
     "output_type": "stream",
     "text": [
      "['hello', 'hello', 'hello', 'hello', 'hello']\n",
      "['hello', 'hello']\n"
     ]
    }
   ],
   "source": [
    "b_list = ['hello']\n",
    "print(b_list*5)\n",
    "print(b_list + b_list)"
   ]
  },
  {
   "cell_type": "code",
   "execution_count": 6,
   "metadata": {},
   "outputs": [
    {
     "name": "stdout",
     "output_type": "stream",
     "text": [
      "10\n",
      "24\n",
      "1\n",
      "[1, 2, 4, 5, 6, 10, 12, 13, 15, 24]\n",
      "[24, 15, 13, 12, 10, 6, 5, 4, 2, 1]\n"
     ]
    }
   ],
   "source": [
    "c_list = [2,6,4,10,24,12,1,5,13,15]\n",
    "print(len(c_list))\n",
    "print(max(c_list))\n",
    "print(min(c_list))\n",
    "print(sorted(c_list))\n",
    "print(sorted(c_list,reverse=True))"
   ]
  },
  {
   "cell_type": "code",
   "execution_count": 7,
   "metadata": {},
   "outputs": [
    {
     "name": "stdout",
     "output_type": "stream",
     "text": [
      "[4, 5, 6]\n",
      "6\n",
      "[[1, 2, 3], [4, 5, 6]]\n"
     ]
    }
   ],
   "source": [
    "d_list = [[1,2,3],[4,5,6],[7,8,9,10]]\n",
    "print(d_list[1])\n",
    "print(d_list[1][2])\n",
    "print(d_list[0:2])"
   ]
  },
  {
   "cell_type": "code",
   "execution_count": 8,
   "metadata": {},
   "outputs": [
    {
     "name": "stdout",
     "output_type": "stream",
     "text": [
      "['SAS', 'Scala', 42]\n",
      "['R', 'Python']\n",
      "['Python', 'SAS', 'Scala']\n"
     ]
    }
   ],
   "source": [
    "DA_languages = ['R','Python', 'SAS', 'Scala', 42]\n",
    "print(DA_languages[2:])\n",
    "print(DA_languages[:-3])\n",
    "DA_languages.pop()\n",
    "DA_languages.pop(0)\n",
    "print(DA_languages)"
   ]
  },
  {
   "cell_type": "code",
   "execution_count": 9,
   "metadata": {},
   "outputs": [
    {
     "name": "stdout",
     "output_type": "stream",
     "text": [
      "([10, 2, 3], [3, 2, 1])\n"
     ]
    }
   ],
   "source": [
    " v = ([1, 2, 3], [3, 2, 1])\n",
    "v[0][0] = 10\n",
    "print(v)"
   ]
  }
 ],
 "metadata": {
  "kernelspec": {
   "display_name": "Python 3",
   "language": "python",
   "name": "python3"
  },
  "language_info": {
   "codemirror_mode": {
    "name": "ipython",
    "version": 3
   },
   "file_extension": ".py",
   "mimetype": "text/x-python",
   "name": "python",
   "nbconvert_exporter": "python",
   "pygments_lexer": "ipython3",
   "version": "3.6.3"
  }
 },
 "nbformat": 4,
 "nbformat_minor": 2
}
