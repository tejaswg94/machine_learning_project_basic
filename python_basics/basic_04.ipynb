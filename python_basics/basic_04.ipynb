{
 "cells": [
  {
   "cell_type": "code",
   "execution_count": 7,
   "metadata": {},
   "outputs": [
    {
     "name": "stdout",
     "output_type": "stream",
     "text": [
      "['A', 'A', 'B', 'C', 'C', 'E', 'N']\n",
      "{'N', 'B', 'C', 'A', 'E'}\n"
     ]
    }
   ],
   "source": [
    "students_list = ['A','A','B','C','C','E','N']\n",
    "print(students_list)\n",
    "students_set = set(students_list)\n",
    "print(students_set)"
   ]
  },
  {
   "cell_type": "code",
   "execution_count": 9,
   "metadata": {
    "collapsed": true
   },
   "outputs": [],
   "source": [
    "students_list_2 = ['A','N','F','N','G','A']"
   ]
  },
  {
   "cell_type": "code",
   "execution_count": 13,
   "metadata": {},
   "outputs": [
    {
     "name": "stdout",
     "output_type": "stream",
     "text": [
      "{'N', 'A'}\n",
      "{'N', 'F', 'C', 'G', 'B', 'A', 'E'}\n",
      "{'B', 'C', 'E'}\n"
     ]
    }
   ],
   "source": [
    "students_set_2 = set(students_list_2)\n",
    "print(students_set.intersection(students_set_2))\n",
    "print(students_set.union(students_set_2))\n",
    "print(students_set.difference(students_set_2))"
   ]
  },
  {
   "cell_type": "code",
   "execution_count": 14,
   "metadata": {},
   "outputs": [
    {
     "name": "stdout",
     "output_type": "stream",
     "text": [
      "4\n"
     ]
    }
   ],
   "source": [
    "nums = set([1,1,2,3,3,3,4])\n",
    "print(len(nums))"
   ]
  }
 ],
 "metadata": {
  "kernelspec": {
   "display_name": "Python 3",
   "language": "python",
   "name": "python3"
  },
  "language_info": {
   "codemirror_mode": {
    "name": "ipython",
    "version": 3
   },
   "file_extension": ".py",
   "mimetype": "text/x-python",
   "name": "python",
   "nbconvert_exporter": "python",
   "pygments_lexer": "ipython3",
   "version": "3.6.3"
  }
 },
 "nbformat": 4,
 "nbformat_minor": 2
}
